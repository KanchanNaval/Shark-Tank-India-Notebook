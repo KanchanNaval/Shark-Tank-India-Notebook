{
 "cells": [
  {
   "cell_type": "code",
   "execution_count": 1,
   "id": "b8586041",
   "metadata": {
    "_cell_guid": "b1076dfc-b9ad-4769-8c92-a6c4dae69d19",
    "_uuid": "8f2839f25d086af736a60e9eeb907d3b93b6e0e5",
    "execution": {
     "iopub.execute_input": "2024-06-04T10:16:45.171911Z",
     "iopub.status.busy": "2024-06-04T10:16:45.171411Z",
     "iopub.status.idle": "2024-06-04T10:16:46.241271Z",
     "shell.execute_reply": "2024-06-04T10:16:46.239768Z"
    },
    "papermill": {
     "duration": 1.086866,
     "end_time": "2024-06-04T10:16:46.244076",
     "exception": false,
     "start_time": "2024-06-04T10:16:45.157210",
     "status": "completed"
    },
    "tags": []
   },
   "outputs": [
    {
     "name": "stdout",
     "output_type": "stream",
     "text": [
      "/kaggle/input/shark-tank-india-dataset/Shark Tank India Dataset.csv\n"
     ]
    }
   ],
   "source": [
    "# This Python 3 environment comes with many helpful analytics libraries installed\n",
    "# It is defined by the kaggle/python Docker image: https://github.com/kaggle/docker-python\n",
    "# For example, here's several helpful packages to load\n",
    "\n",
    "import numpy as np # linear algebra\n",
    "import pandas as pd # data processing, CSV file I/O (e.g. pd.read_csv)\n",
    "\n",
    "# Input data files are available in the read-only \"../input/\" directory\n",
    "# For example, running this (by clicking run or pressing Shift+Enter) will list all files under the input directory\n",
    "\n",
    "import os\n",
    "for dirname, _, filenames in os.walk('/kaggle/input'):\n",
    "    for filename in filenames:\n",
    "        print(os.path.join(dirname, filename))\n",
    "\n",
    "# You can write up to 20GB to the current directory (/kaggle/working/) that gets preserved as output when you create a version using \"Save & Run All\" \n",
    "# You can also write temporary files to /kaggle/temp/, but they won't be saved outside of the current session"
   ]
  },
  {
   "cell_type": "markdown",
   "id": "6733f6fe",
   "metadata": {
    "papermill": {
     "duration": 0.010736,
     "end_time": "2024-06-04T10:16:46.265034",
     "exception": false,
     "start_time": "2024-06-04T10:16:46.254298",
     "status": "completed"
    },
    "tags": []
   },
   "source": [
    "# Step 1: Import Libraries"
   ]
  },
  {
   "cell_type": "code",
   "execution_count": 2,
   "id": "cec13719",
   "metadata": {
    "execution": {
     "iopub.execute_input": "2024-06-04T10:16:46.287355Z",
     "iopub.status.busy": "2024-06-04T10:16:46.286822Z",
     "iopub.status.idle": "2024-06-04T10:16:47.756428Z",
     "shell.execute_reply": "2024-06-04T10:16:47.755040Z"
    },
    "papermill": {
     "duration": 1.484899,
     "end_time": "2024-06-04T10:16:47.759955",
     "exception": false,
     "start_time": "2024-06-04T10:16:46.275056",
     "status": "completed"
    },
    "tags": []
   },
   "outputs": [],
   "source": [
    "import pandas as pd\n",
    "import seaborn as sns\n",
    "import matplotlib.pyplot as plt\n",
    "import warnings\n",
    "warnings.simplefilter(\"ignore\")"
   ]
  },
  {
   "cell_type": "code",
   "execution_count": 3,
   "id": "edf25ee8",
   "metadata": {
    "execution": {
     "iopub.execute_input": "2024-06-04T10:16:47.782968Z",
     "iopub.status.busy": "2024-06-04T10:16:47.782475Z",
     "iopub.status.idle": "2024-06-04T10:16:47.803144Z",
     "shell.execute_reply": "2024-06-04T10:16:47.801876Z"
    },
    "papermill": {
     "duration": 0.035813,
     "end_time": "2024-06-04T10:16:47.806035",
     "exception": false,
     "start_time": "2024-06-04T10:16:47.770222",
     "status": "completed"
    },
    "tags": []
   },
   "outputs": [],
   "source": [
    "# Load the dataset\n",
    "df = pd.read_csv('/kaggle/input/shark-tank-india-dataset/Shark Tank India Dataset.csv')"
   ]
  },
  {
   "cell_type": "code",
   "execution_count": 4,
   "id": "4e2dadc1",
   "metadata": {
    "execution": {
     "iopub.execute_input": "2024-06-04T10:16:47.828799Z",
     "iopub.status.busy": "2024-06-04T10:16:47.828352Z",
     "iopub.status.idle": "2024-06-04T10:16:47.873333Z",
     "shell.execute_reply": "2024-06-04T10:16:47.871846Z"
    },
    "papermill": {
     "duration": 0.059576,
     "end_time": "2024-06-04T10:16:47.875819",
     "exception": false,
     "start_time": "2024-06-04T10:16:47.816243",
     "status": "completed"
    },
    "tags": []
   },
   "outputs": [
    {
     "data": {
      "text/html": [
       "<div>\n",
       "<style scoped>\n",
       "    .dataframe tbody tr th:only-of-type {\n",
       "        vertical-align: middle;\n",
       "    }\n",
       "\n",
       "    .dataframe tbody tr th {\n",
       "        vertical-align: top;\n",
       "    }\n",
       "\n",
       "    .dataframe thead th {\n",
       "        text-align: right;\n",
       "    }\n",
       "</style>\n",
       "<table border=\"1\" class=\"dataframe\">\n",
       "  <thead>\n",
       "    <tr style=\"text-align: right;\">\n",
       "      <th></th>\n",
       "      <th>episode_number</th>\n",
       "      <th>pitch_number</th>\n",
       "      <th>brand_name</th>\n",
       "      <th>idea</th>\n",
       "      <th>deal</th>\n",
       "      <th>pitcher_ask_amount</th>\n",
       "      <th>ask_equity</th>\n",
       "      <th>ask_valuation</th>\n",
       "      <th>deal_amount</th>\n",
       "      <th>deal_equity</th>\n",
       "      <th>...</th>\n",
       "      <th>ashneer_deal</th>\n",
       "      <th>anupam_deal</th>\n",
       "      <th>aman_deal</th>\n",
       "      <th>namita_deal</th>\n",
       "      <th>vineeta_deal</th>\n",
       "      <th>peyush_deal</th>\n",
       "      <th>ghazal_deal</th>\n",
       "      <th>total_sharks_invested</th>\n",
       "      <th>amount_per_shark</th>\n",
       "      <th>equity_per_shark</th>\n",
       "    </tr>\n",
       "  </thead>\n",
       "  <tbody>\n",
       "    <tr>\n",
       "      <th>0</th>\n",
       "      <td>1</td>\n",
       "      <td>1</td>\n",
       "      <td>BluePine Industries</td>\n",
       "      <td>Frozen Momos</td>\n",
       "      <td>1</td>\n",
       "      <td>50.0</td>\n",
       "      <td>5.0</td>\n",
       "      <td>1000.00</td>\n",
       "      <td>75.0</td>\n",
       "      <td>16.00</td>\n",
       "      <td>...</td>\n",
       "      <td>1</td>\n",
       "      <td>0</td>\n",
       "      <td>1</td>\n",
       "      <td>0</td>\n",
       "      <td>1</td>\n",
       "      <td>0</td>\n",
       "      <td>0</td>\n",
       "      <td>3</td>\n",
       "      <td>25.0</td>\n",
       "      <td>5.333333</td>\n",
       "    </tr>\n",
       "    <tr>\n",
       "      <th>1</th>\n",
       "      <td>1</td>\n",
       "      <td>2</td>\n",
       "      <td>Booz scooters</td>\n",
       "      <td>Renting e-bike for mobility in private spaces</td>\n",
       "      <td>1</td>\n",
       "      <td>40.0</td>\n",
       "      <td>15.0</td>\n",
       "      <td>266.67</td>\n",
       "      <td>40.0</td>\n",
       "      <td>50.00</td>\n",
       "      <td>...</td>\n",
       "      <td>1</td>\n",
       "      <td>0</td>\n",
       "      <td>0</td>\n",
       "      <td>0</td>\n",
       "      <td>1</td>\n",
       "      <td>0</td>\n",
       "      <td>0</td>\n",
       "      <td>2</td>\n",
       "      <td>20.0</td>\n",
       "      <td>25.000000</td>\n",
       "    </tr>\n",
       "    <tr>\n",
       "      <th>2</th>\n",
       "      <td>1</td>\n",
       "      <td>3</td>\n",
       "      <td>Heart up my Sleeves</td>\n",
       "      <td>Detachable Sleeves</td>\n",
       "      <td>1</td>\n",
       "      <td>25.0</td>\n",
       "      <td>10.0</td>\n",
       "      <td>250.00</td>\n",
       "      <td>25.0</td>\n",
       "      <td>30.00</td>\n",
       "      <td>...</td>\n",
       "      <td>0</td>\n",
       "      <td>1</td>\n",
       "      <td>0</td>\n",
       "      <td>0</td>\n",
       "      <td>1</td>\n",
       "      <td>0</td>\n",
       "      <td>0</td>\n",
       "      <td>2</td>\n",
       "      <td>12.5</td>\n",
       "      <td>15.000000</td>\n",
       "    </tr>\n",
       "    <tr>\n",
       "      <th>3</th>\n",
       "      <td>2</td>\n",
       "      <td>4</td>\n",
       "      <td>Tagz Foods</td>\n",
       "      <td>Healthy Potato Chips</td>\n",
       "      <td>1</td>\n",
       "      <td>70.0</td>\n",
       "      <td>1.0</td>\n",
       "      <td>7000.00</td>\n",
       "      <td>70.0</td>\n",
       "      <td>2.75</td>\n",
       "      <td>...</td>\n",
       "      <td>1</td>\n",
       "      <td>0</td>\n",
       "      <td>0</td>\n",
       "      <td>0</td>\n",
       "      <td>0</td>\n",
       "      <td>0</td>\n",
       "      <td>0</td>\n",
       "      <td>1</td>\n",
       "      <td>70.0</td>\n",
       "      <td>2.750000</td>\n",
       "    </tr>\n",
       "    <tr>\n",
       "      <th>4</th>\n",
       "      <td>2</td>\n",
       "      <td>5</td>\n",
       "      <td>Head and Heart</td>\n",
       "      <td>Brain Development Course</td>\n",
       "      <td>0</td>\n",
       "      <td>50.0</td>\n",
       "      <td>5.0</td>\n",
       "      <td>1000.00</td>\n",
       "      <td>0.0</td>\n",
       "      <td>0.00</td>\n",
       "      <td>...</td>\n",
       "      <td>0</td>\n",
       "      <td>0</td>\n",
       "      <td>0</td>\n",
       "      <td>0</td>\n",
       "      <td>0</td>\n",
       "      <td>0</td>\n",
       "      <td>0</td>\n",
       "      <td>0</td>\n",
       "      <td>0.0</td>\n",
       "      <td>0.000000</td>\n",
       "    </tr>\n",
       "  </tbody>\n",
       "</table>\n",
       "<p>5 rows × 28 columns</p>\n",
       "</div>"
      ],
      "text/plain": [
       "   episode_number  pitch_number           brand_name  \\\n",
       "0               1             1  BluePine Industries   \n",
       "1               1             2        Booz scooters   \n",
       "2               1             3  Heart up my Sleeves   \n",
       "3               2             4           Tagz Foods   \n",
       "4               2             5       Head and Heart   \n",
       "\n",
       "                                            idea  deal  pitcher_ask_amount  \\\n",
       "0                                   Frozen Momos     1                50.0   \n",
       "1  Renting e-bike for mobility in private spaces     1                40.0   \n",
       "2                             Detachable Sleeves     1                25.0   \n",
       "3                           Healthy Potato Chips     1                70.0   \n",
       "4                       Brain Development Course     0                50.0   \n",
       "\n",
       "   ask_equity  ask_valuation  deal_amount  deal_equity  ...  ashneer_deal  \\\n",
       "0         5.0        1000.00         75.0        16.00  ...             1   \n",
       "1        15.0         266.67         40.0        50.00  ...             1   \n",
       "2        10.0         250.00         25.0        30.00  ...             0   \n",
       "3         1.0        7000.00         70.0         2.75  ...             1   \n",
       "4         5.0        1000.00          0.0         0.00  ...             0   \n",
       "\n",
       "   anupam_deal  aman_deal  namita_deal  vineeta_deal  peyush_deal  \\\n",
       "0            0          1            0             1            0   \n",
       "1            0          0            0             1            0   \n",
       "2            1          0            0             1            0   \n",
       "3            0          0            0             0            0   \n",
       "4            0          0            0             0            0   \n",
       "\n",
       "   ghazal_deal  total_sharks_invested  amount_per_shark  equity_per_shark  \n",
       "0            0                      3              25.0          5.333333  \n",
       "1            0                      2              20.0         25.000000  \n",
       "2            0                      2              12.5         15.000000  \n",
       "3            0                      1              70.0          2.750000  \n",
       "4            0                      0               0.0          0.000000  \n",
       "\n",
       "[5 rows x 28 columns]"
      ]
     },
     "execution_count": 4,
     "metadata": {},
     "output_type": "execute_result"
    }
   ],
   "source": [
    "# Display the first few rows of the dataset\n",
    "df.head()"
   ]
  },
  {
   "cell_type": "code",
   "execution_count": 5,
   "id": "bda90068",
   "metadata": {
    "execution": {
     "iopub.execute_input": "2024-06-04T10:16:47.898444Z",
     "iopub.status.busy": "2024-06-04T10:16:47.898072Z",
     "iopub.status.idle": "2024-06-04T10:16:47.926443Z",
     "shell.execute_reply": "2024-06-04T10:16:47.925231Z"
    },
    "papermill": {
     "duration": 0.042597,
     "end_time": "2024-06-04T10:16:47.928965",
     "exception": false,
     "start_time": "2024-06-04T10:16:47.886368",
     "status": "completed"
    },
    "tags": []
   },
   "outputs": [
    {
     "data": {
      "text/html": [
       "<div>\n",
       "<style scoped>\n",
       "    .dataframe tbody tr th:only-of-type {\n",
       "        vertical-align: middle;\n",
       "    }\n",
       "\n",
       "    .dataframe tbody tr th {\n",
       "        vertical-align: top;\n",
       "    }\n",
       "\n",
       "    .dataframe thead th {\n",
       "        text-align: right;\n",
       "    }\n",
       "</style>\n",
       "<table border=\"1\" class=\"dataframe\">\n",
       "  <thead>\n",
       "    <tr style=\"text-align: right;\">\n",
       "      <th></th>\n",
       "      <th>episode_number</th>\n",
       "      <th>pitch_number</th>\n",
       "      <th>brand_name</th>\n",
       "      <th>idea</th>\n",
       "      <th>deal</th>\n",
       "      <th>pitcher_ask_amount</th>\n",
       "      <th>ask_equity</th>\n",
       "      <th>ask_valuation</th>\n",
       "      <th>deal_amount</th>\n",
       "      <th>deal_equity</th>\n",
       "      <th>...</th>\n",
       "      <th>ashneer_deal</th>\n",
       "      <th>anupam_deal</th>\n",
       "      <th>aman_deal</th>\n",
       "      <th>namita_deal</th>\n",
       "      <th>vineeta_deal</th>\n",
       "      <th>peyush_deal</th>\n",
       "      <th>ghazal_deal</th>\n",
       "      <th>total_sharks_invested</th>\n",
       "      <th>amount_per_shark</th>\n",
       "      <th>equity_per_shark</th>\n",
       "    </tr>\n",
       "  </thead>\n",
       "  <tbody>\n",
       "    <tr>\n",
       "      <th>29</th>\n",
       "      <td>10</td>\n",
       "      <td>30</td>\n",
       "      <td>EventBeep</td>\n",
       "      <td>Student Community App</td>\n",
       "      <td>1</td>\n",
       "      <td>30.0</td>\n",
       "      <td>2.0</td>\n",
       "      <td>1500.00</td>\n",
       "      <td>30.0</td>\n",
       "      <td>3.0</td>\n",
       "      <td>...</td>\n",
       "      <td>1</td>\n",
       "      <td>0</td>\n",
       "      <td>1</td>\n",
       "      <td>0</td>\n",
       "      <td>0</td>\n",
       "      <td>1</td>\n",
       "      <td>0</td>\n",
       "      <td>3</td>\n",
       "      <td>10.0</td>\n",
       "      <td>1.00</td>\n",
       "    </tr>\n",
       "    <tr>\n",
       "      <th>97</th>\n",
       "      <td>30</td>\n",
       "      <td>98</td>\n",
       "      <td>Scholify</td>\n",
       "      <td>Scholarship Platform</td>\n",
       "      <td>0</td>\n",
       "      <td>50.0</td>\n",
       "      <td>7.5</td>\n",
       "      <td>666.67</td>\n",
       "      <td>0.0</td>\n",
       "      <td>0.0</td>\n",
       "      <td>...</td>\n",
       "      <td>0</td>\n",
       "      <td>0</td>\n",
       "      <td>0</td>\n",
       "      <td>0</td>\n",
       "      <td>0</td>\n",
       "      <td>0</td>\n",
       "      <td>0</td>\n",
       "      <td>0</td>\n",
       "      <td>0.0</td>\n",
       "      <td>0.00</td>\n",
       "    </tr>\n",
       "    <tr>\n",
       "      <th>102</th>\n",
       "      <td>32</td>\n",
       "      <td>103</td>\n",
       "      <td>Thea and Sid</td>\n",
       "      <td>Proposal Solutions</td>\n",
       "      <td>0</td>\n",
       "      <td>80.0</td>\n",
       "      <td>7.0</td>\n",
       "      <td>1142.86</td>\n",
       "      <td>0.0</td>\n",
       "      <td>0.0</td>\n",
       "      <td>...</td>\n",
       "      <td>0</td>\n",
       "      <td>0</td>\n",
       "      <td>0</td>\n",
       "      <td>0</td>\n",
       "      <td>0</td>\n",
       "      <td>0</td>\n",
       "      <td>0</td>\n",
       "      <td>0</td>\n",
       "      <td>0.0</td>\n",
       "      <td>0.00</td>\n",
       "    </tr>\n",
       "    <tr>\n",
       "      <th>77</th>\n",
       "      <td>24</td>\n",
       "      <td>78</td>\n",
       "      <td>Nuskha Kitchen</td>\n",
       "      <td>Homemade Foods</td>\n",
       "      <td>0</td>\n",
       "      <td>20.0</td>\n",
       "      <td>10.0</td>\n",
       "      <td>200.00</td>\n",
       "      <td>0.0</td>\n",
       "      <td>0.0</td>\n",
       "      <td>...</td>\n",
       "      <td>0</td>\n",
       "      <td>0</td>\n",
       "      <td>0</td>\n",
       "      <td>0</td>\n",
       "      <td>0</td>\n",
       "      <td>0</td>\n",
       "      <td>0</td>\n",
       "      <td>0</td>\n",
       "      <td>0.0</td>\n",
       "      <td>0.00</td>\n",
       "    </tr>\n",
       "    <tr>\n",
       "      <th>12</th>\n",
       "      <td>5</td>\n",
       "      <td>13</td>\n",
       "      <td>Revamp Moto</td>\n",
       "      <td>E-Bike</td>\n",
       "      <td>1</td>\n",
       "      <td>100.0</td>\n",
       "      <td>1.0</td>\n",
       "      <td>10000.00</td>\n",
       "      <td>100.0</td>\n",
       "      <td>1.5</td>\n",
       "      <td>...</td>\n",
       "      <td>0</td>\n",
       "      <td>1</td>\n",
       "      <td>1</td>\n",
       "      <td>0</td>\n",
       "      <td>0</td>\n",
       "      <td>0</td>\n",
       "      <td>0</td>\n",
       "      <td>2</td>\n",
       "      <td>50.0</td>\n",
       "      <td>0.75</td>\n",
       "    </tr>\n",
       "  </tbody>\n",
       "</table>\n",
       "<p>5 rows × 28 columns</p>\n",
       "</div>"
      ],
      "text/plain": [
       "     episode_number  pitch_number      brand_name                   idea  \\\n",
       "29               10            30       EventBeep  Student Community App   \n",
       "97               30            98        Scholify   Scholarship Platform   \n",
       "102              32           103    Thea and Sid     Proposal Solutions   \n",
       "77               24            78  Nuskha Kitchen         Homemade Foods   \n",
       "12                5            13     Revamp Moto                 E-Bike   \n",
       "\n",
       "     deal  pitcher_ask_amount  ask_equity  ask_valuation  deal_amount  \\\n",
       "29      1                30.0         2.0        1500.00         30.0   \n",
       "97      0                50.0         7.5         666.67          0.0   \n",
       "102     0                80.0         7.0        1142.86          0.0   \n",
       "77      0                20.0        10.0         200.00          0.0   \n",
       "12      1               100.0         1.0       10000.00        100.0   \n",
       "\n",
       "     deal_equity  ...  ashneer_deal  anupam_deal  aman_deal  namita_deal  \\\n",
       "29           3.0  ...             1            0          1            0   \n",
       "97           0.0  ...             0            0          0            0   \n",
       "102          0.0  ...             0            0          0            0   \n",
       "77           0.0  ...             0            0          0            0   \n",
       "12           1.5  ...             0            1          1            0   \n",
       "\n",
       "     vineeta_deal  peyush_deal  ghazal_deal  total_sharks_invested  \\\n",
       "29              0            1            0                      3   \n",
       "97              0            0            0                      0   \n",
       "102             0            0            0                      0   \n",
       "77              0            0            0                      0   \n",
       "12              0            0            0                      2   \n",
       "\n",
       "     amount_per_shark  equity_per_shark  \n",
       "29               10.0              1.00  \n",
       "97                0.0              0.00  \n",
       "102               0.0              0.00  \n",
       "77                0.0              0.00  \n",
       "12               50.0              0.75  \n",
       "\n",
       "[5 rows x 28 columns]"
      ]
     },
     "execution_count": 5,
     "metadata": {},
     "output_type": "execute_result"
    }
   ],
   "source": [
    "df.sample(5)"
   ]
  },
  {
   "cell_type": "markdown",
   "id": "b84dc01e",
   "metadata": {
    "papermill": {
     "duration": 0.010373,
     "end_time": "2024-06-04T10:16:47.950286",
     "exception": false,
     "start_time": "2024-06-04T10:16:47.939913",
     "status": "completed"
    },
    "tags": []
   },
   "source": [
    "# Step 2: Exploring the Data\n"
   ]
  },
  {
   "cell_type": "code",
   "execution_count": 6,
   "id": "a79e31df",
   "metadata": {
    "execution": {
     "iopub.execute_input": "2024-06-04T10:16:47.974660Z",
     "iopub.status.busy": "2024-06-04T10:16:47.973651Z",
     "iopub.status.idle": "2024-06-04T10:16:47.997219Z",
     "shell.execute_reply": "2024-06-04T10:16:47.995879Z"
    },
    "papermill": {
     "duration": 0.038469,
     "end_time": "2024-06-04T10:16:47.999697",
     "exception": false,
     "start_time": "2024-06-04T10:16:47.961228",
     "status": "completed"
    },
    "tags": []
   },
   "outputs": [
    {
     "name": "stdout",
     "output_type": "stream",
     "text": [
      "<class 'pandas.core.frame.DataFrame'>\n",
      "RangeIndex: 117 entries, 0 to 116\n",
      "Data columns (total 28 columns):\n",
      " #   Column                 Non-Null Count  Dtype  \n",
      "---  ------                 --------------  -----  \n",
      " 0   episode_number         117 non-null    int64  \n",
      " 1   pitch_number           117 non-null    int64  \n",
      " 2   brand_name             117 non-null    object \n",
      " 3   idea                   117 non-null    object \n",
      " 4   deal                   117 non-null    int64  \n",
      " 5   pitcher_ask_amount     117 non-null    float64\n",
      " 6   ask_equity             117 non-null    float64\n",
      " 7   ask_valuation          117 non-null    float64\n",
      " 8   deal_amount            117 non-null    float64\n",
      " 9   deal_equity            117 non-null    float64\n",
      " 10  deal_valuation         117 non-null    float64\n",
      " 11  ashneer_present        117 non-null    int64  \n",
      " 12  anupam_present         117 non-null    int64  \n",
      " 13  aman_present           117 non-null    int64  \n",
      " 14  namita_present         117 non-null    int64  \n",
      " 15  vineeta_present        117 non-null    int64  \n",
      " 16  peyush_present         117 non-null    int64  \n",
      " 17  ghazal_present         117 non-null    int64  \n",
      " 18  ashneer_deal           117 non-null    int64  \n",
      " 19  anupam_deal            117 non-null    int64  \n",
      " 20  aman_deal              117 non-null    int64  \n",
      " 21  namita_deal            117 non-null    int64  \n",
      " 22  vineeta_deal           117 non-null    int64  \n",
      " 23  peyush_deal            117 non-null    int64  \n",
      " 24  ghazal_deal            117 non-null    int64  \n",
      " 25  total_sharks_invested  117 non-null    int64  \n",
      " 26  amount_per_shark       117 non-null    float64\n",
      " 27  equity_per_shark       117 non-null    float64\n",
      "dtypes: float64(8), int64(18), object(2)\n",
      "memory usage: 25.7+ KB\n"
     ]
    }
   ],
   "source": [
    "df.info()"
   ]
  },
  {
   "cell_type": "code",
   "execution_count": 7,
   "id": "09aedf7e",
   "metadata": {
    "execution": {
     "iopub.execute_input": "2024-06-04T10:16:48.023488Z",
     "iopub.status.busy": "2024-06-04T10:16:48.022569Z",
     "iopub.status.idle": "2024-06-04T10:16:48.030978Z",
     "shell.execute_reply": "2024-06-04T10:16:48.029663Z"
    },
    "papermill": {
     "duration": 0.023174,
     "end_time": "2024-06-04T10:16:48.033524",
     "exception": false,
     "start_time": "2024-06-04T10:16:48.010350",
     "status": "completed"
    },
    "tags": []
   },
   "outputs": [
    {
     "data": {
      "text/plain": [
       "Index(['episode_number', 'pitch_number', 'brand_name', 'idea', 'deal',\n",
       "       'pitcher_ask_amount', 'ask_equity', 'ask_valuation', 'deal_amount',\n",
       "       'deal_equity', 'deal_valuation', 'ashneer_present', 'anupam_present',\n",
       "       'aman_present', 'namita_present', 'vineeta_present', 'peyush_present',\n",
       "       'ghazal_present', 'ashneer_deal', 'anupam_deal', 'aman_deal',\n",
       "       'namita_deal', 'vineeta_deal', 'peyush_deal', 'ghazal_deal',\n",
       "       'total_sharks_invested', 'amount_per_shark', 'equity_per_shark'],\n",
       "      dtype='object')"
      ]
     },
     "execution_count": 7,
     "metadata": {},
     "output_type": "execute_result"
    }
   ],
   "source": [
    "df.columns"
   ]
  },
  {
   "cell_type": "code",
   "execution_count": 8,
   "id": "834158e7",
   "metadata": {
    "execution": {
     "iopub.execute_input": "2024-06-04T10:16:48.056832Z",
     "iopub.status.busy": "2024-06-04T10:16:48.056417Z",
     "iopub.status.idle": "2024-06-04T10:16:48.131848Z",
     "shell.execute_reply": "2024-06-04T10:16:48.129758Z"
    },
    "papermill": {
     "duration": 0.090232,
     "end_time": "2024-06-04T10:16:48.134520",
     "exception": false,
     "start_time": "2024-06-04T10:16:48.044288",
     "status": "completed"
    },
    "tags": []
   },
   "outputs": [
    {
     "data": {
      "text/html": [
       "<div>\n",
       "<style scoped>\n",
       "    .dataframe tbody tr th:only-of-type {\n",
       "        vertical-align: middle;\n",
       "    }\n",
       "\n",
       "    .dataframe tbody tr th {\n",
       "        vertical-align: top;\n",
       "    }\n",
       "\n",
       "    .dataframe thead th {\n",
       "        text-align: right;\n",
       "    }\n",
       "</style>\n",
       "<table border=\"1\" class=\"dataframe\">\n",
       "  <thead>\n",
       "    <tr style=\"text-align: right;\">\n",
       "      <th></th>\n",
       "      <th>episode_number</th>\n",
       "      <th>pitch_number</th>\n",
       "      <th>deal</th>\n",
       "      <th>pitcher_ask_amount</th>\n",
       "      <th>ask_equity</th>\n",
       "      <th>ask_valuation</th>\n",
       "      <th>deal_amount</th>\n",
       "      <th>deal_equity</th>\n",
       "      <th>deal_valuation</th>\n",
       "      <th>ashneer_present</th>\n",
       "      <th>...</th>\n",
       "      <th>ashneer_deal</th>\n",
       "      <th>anupam_deal</th>\n",
       "      <th>aman_deal</th>\n",
       "      <th>namita_deal</th>\n",
       "      <th>vineeta_deal</th>\n",
       "      <th>peyush_deal</th>\n",
       "      <th>ghazal_deal</th>\n",
       "      <th>total_sharks_invested</th>\n",
       "      <th>amount_per_shark</th>\n",
       "      <th>equity_per_shark</th>\n",
       "    </tr>\n",
       "  </thead>\n",
       "  <tbody>\n",
       "    <tr>\n",
       "      <th>count</th>\n",
       "      <td>117.000000</td>\n",
       "      <td>117.000000</td>\n",
       "      <td>117.000000</td>\n",
       "      <td>117.000000</td>\n",
       "      <td>117.000000</td>\n",
       "      <td>117.000000</td>\n",
       "      <td>117.000000</td>\n",
       "      <td>117.000000</td>\n",
       "      <td>117.000000</td>\n",
       "      <td>117.000000</td>\n",
       "      <td>...</td>\n",
       "      <td>117.000000</td>\n",
       "      <td>117.000000</td>\n",
       "      <td>117.000000</td>\n",
       "      <td>117.000000</td>\n",
       "      <td>117.000000</td>\n",
       "      <td>117.000000</td>\n",
       "      <td>117.000000</td>\n",
       "      <td>117.000000</td>\n",
       "      <td>117.000000</td>\n",
       "      <td>117.000000</td>\n",
       "    </tr>\n",
       "    <tr>\n",
       "      <th>mean</th>\n",
       "      <td>18.735043</td>\n",
       "      <td>59.000000</td>\n",
       "      <td>0.555556</td>\n",
       "      <td>319.854709</td>\n",
       "      <td>5.188034</td>\n",
       "      <td>3852.462479</td>\n",
       "      <td>31.982915</td>\n",
       "      <td>8.963504</td>\n",
       "      <td>467.104872</td>\n",
       "      <td>0.837607</td>\n",
       "      <td>...</td>\n",
       "      <td>0.179487</td>\n",
       "      <td>0.205128</td>\n",
       "      <td>0.239316</td>\n",
       "      <td>0.188034</td>\n",
       "      <td>0.128205</td>\n",
       "      <td>0.230769</td>\n",
       "      <td>0.059829</td>\n",
       "      <td>1.230769</td>\n",
       "      <td>18.132481</td>\n",
       "      <td>5.583590</td>\n",
       "    </tr>\n",
       "    <tr>\n",
       "      <th>std</th>\n",
       "      <td>10.070778</td>\n",
       "      <td>33.919021</td>\n",
       "      <td>0.499041</td>\n",
       "      <td>2767.842777</td>\n",
       "      <td>3.892121</td>\n",
       "      <td>11931.601957</td>\n",
       "      <td>36.687391</td>\n",
       "      <td>13.106769</td>\n",
       "      <td>919.988864</td>\n",
       "      <td>0.370397</td>\n",
       "      <td>...</td>\n",
       "      <td>0.385410</td>\n",
       "      <td>0.405532</td>\n",
       "      <td>0.428501</td>\n",
       "      <td>0.392420</td>\n",
       "      <td>0.335756</td>\n",
       "      <td>0.423137</td>\n",
       "      <td>0.238190</td>\n",
       "      <td>1.410457</td>\n",
       "      <td>23.588682</td>\n",
       "      <td>10.803799</td>\n",
       "    </tr>\n",
       "    <tr>\n",
       "      <th>min</th>\n",
       "      <td>1.000000</td>\n",
       "      <td>1.000000</td>\n",
       "      <td>0.000000</td>\n",
       "      <td>0.001010</td>\n",
       "      <td>0.250000</td>\n",
       "      <td>0.010000</td>\n",
       "      <td>0.000000</td>\n",
       "      <td>0.000000</td>\n",
       "      <td>0.000000</td>\n",
       "      <td>0.000000</td>\n",
       "      <td>...</td>\n",
       "      <td>0.000000</td>\n",
       "      <td>0.000000</td>\n",
       "      <td>0.000000</td>\n",
       "      <td>0.000000</td>\n",
       "      <td>0.000000</td>\n",
       "      <td>0.000000</td>\n",
       "      <td>0.000000</td>\n",
       "      <td>0.000000</td>\n",
       "      <td>0.000000</td>\n",
       "      <td>0.000000</td>\n",
       "    </tr>\n",
       "    <tr>\n",
       "      <th>25%</th>\n",
       "      <td>10.000000</td>\n",
       "      <td>30.000000</td>\n",
       "      <td>0.000000</td>\n",
       "      <td>45.000000</td>\n",
       "      <td>2.500000</td>\n",
       "      <td>666.670000</td>\n",
       "      <td>0.000000</td>\n",
       "      <td>0.000000</td>\n",
       "      <td>0.000000</td>\n",
       "      <td>1.000000</td>\n",
       "      <td>...</td>\n",
       "      <td>0.000000</td>\n",
       "      <td>0.000000</td>\n",
       "      <td>0.000000</td>\n",
       "      <td>0.000000</td>\n",
       "      <td>0.000000</td>\n",
       "      <td>0.000000</td>\n",
       "      <td>0.000000</td>\n",
       "      <td>0.000000</td>\n",
       "      <td>0.000000</td>\n",
       "      <td>0.000000</td>\n",
       "    </tr>\n",
       "    <tr>\n",
       "      <th>50%</th>\n",
       "      <td>19.000000</td>\n",
       "      <td>59.000000</td>\n",
       "      <td>1.000000</td>\n",
       "      <td>50.000000</td>\n",
       "      <td>5.000000</td>\n",
       "      <td>1250.000000</td>\n",
       "      <td>25.000000</td>\n",
       "      <td>3.000000</td>\n",
       "      <td>100.000000</td>\n",
       "      <td>1.000000</td>\n",
       "      <td>...</td>\n",
       "      <td>0.000000</td>\n",
       "      <td>0.000000</td>\n",
       "      <td>0.000000</td>\n",
       "      <td>0.000000</td>\n",
       "      <td>0.000000</td>\n",
       "      <td>0.000000</td>\n",
       "      <td>0.000000</td>\n",
       "      <td>1.000000</td>\n",
       "      <td>10.000000</td>\n",
       "      <td>1.250000</td>\n",
       "    </tr>\n",
       "    <tr>\n",
       "      <th>75%</th>\n",
       "      <td>27.000000</td>\n",
       "      <td>88.000000</td>\n",
       "      <td>1.000000</td>\n",
       "      <td>80.000000</td>\n",
       "      <td>7.500000</td>\n",
       "      <td>2857.140000</td>\n",
       "      <td>50.000000</td>\n",
       "      <td>15.000000</td>\n",
       "      <td>500.000000</td>\n",
       "      <td>1.000000</td>\n",
       "      <td>...</td>\n",
       "      <td>0.000000</td>\n",
       "      <td>0.000000</td>\n",
       "      <td>0.000000</td>\n",
       "      <td>0.000000</td>\n",
       "      <td>0.000000</td>\n",
       "      <td>0.000000</td>\n",
       "      <td>0.000000</td>\n",
       "      <td>2.000000</td>\n",
       "      <td>25.000000</td>\n",
       "      <td>6.000000</td>\n",
       "    </tr>\n",
       "    <tr>\n",
       "      <th>max</th>\n",
       "      <td>35.000000</td>\n",
       "      <td>117.000000</td>\n",
       "      <td>1.000000</td>\n",
       "      <td>30000.000000</td>\n",
       "      <td>25.000000</td>\n",
       "      <td>120000.000000</td>\n",
       "      <td>150.000000</td>\n",
       "      <td>75.000000</td>\n",
       "      <td>6666.670000</td>\n",
       "      <td>1.000000</td>\n",
       "      <td>...</td>\n",
       "      <td>1.000000</td>\n",
       "      <td>1.000000</td>\n",
       "      <td>1.000000</td>\n",
       "      <td>1.000000</td>\n",
       "      <td>1.000000</td>\n",
       "      <td>1.000000</td>\n",
       "      <td>1.000000</td>\n",
       "      <td>5.000000</td>\n",
       "      <td>100.000000</td>\n",
       "      <td>75.000000</td>\n",
       "    </tr>\n",
       "  </tbody>\n",
       "</table>\n",
       "<p>8 rows × 26 columns</p>\n",
       "</div>"
      ],
      "text/plain": [
       "       episode_number  pitch_number        deal  pitcher_ask_amount  \\\n",
       "count      117.000000    117.000000  117.000000          117.000000   \n",
       "mean        18.735043     59.000000    0.555556          319.854709   \n",
       "std         10.070778     33.919021    0.499041         2767.842777   \n",
       "min          1.000000      1.000000    0.000000            0.001010   \n",
       "25%         10.000000     30.000000    0.000000           45.000000   \n",
       "50%         19.000000     59.000000    1.000000           50.000000   \n",
       "75%         27.000000     88.000000    1.000000           80.000000   \n",
       "max         35.000000    117.000000    1.000000        30000.000000   \n",
       "\n",
       "       ask_equity  ask_valuation  deal_amount  deal_equity  deal_valuation  \\\n",
       "count  117.000000     117.000000   117.000000   117.000000      117.000000   \n",
       "mean     5.188034    3852.462479    31.982915     8.963504      467.104872   \n",
       "std      3.892121   11931.601957    36.687391    13.106769      919.988864   \n",
       "min      0.250000       0.010000     0.000000     0.000000        0.000000   \n",
       "25%      2.500000     666.670000     0.000000     0.000000        0.000000   \n",
       "50%      5.000000    1250.000000    25.000000     3.000000      100.000000   \n",
       "75%      7.500000    2857.140000    50.000000    15.000000      500.000000   \n",
       "max     25.000000  120000.000000   150.000000    75.000000     6666.670000   \n",
       "\n",
       "       ashneer_present  ...  ashneer_deal  anupam_deal   aman_deal  \\\n",
       "count       117.000000  ...    117.000000   117.000000  117.000000   \n",
       "mean          0.837607  ...      0.179487     0.205128    0.239316   \n",
       "std           0.370397  ...      0.385410     0.405532    0.428501   \n",
       "min           0.000000  ...      0.000000     0.000000    0.000000   \n",
       "25%           1.000000  ...      0.000000     0.000000    0.000000   \n",
       "50%           1.000000  ...      0.000000     0.000000    0.000000   \n",
       "75%           1.000000  ...      0.000000     0.000000    0.000000   \n",
       "max           1.000000  ...      1.000000     1.000000    1.000000   \n",
       "\n",
       "       namita_deal  vineeta_deal  peyush_deal  ghazal_deal  \\\n",
       "count   117.000000    117.000000   117.000000   117.000000   \n",
       "mean      0.188034      0.128205     0.230769     0.059829   \n",
       "std       0.392420      0.335756     0.423137     0.238190   \n",
       "min       0.000000      0.000000     0.000000     0.000000   \n",
       "25%       0.000000      0.000000     0.000000     0.000000   \n",
       "50%       0.000000      0.000000     0.000000     0.000000   \n",
       "75%       0.000000      0.000000     0.000000     0.000000   \n",
       "max       1.000000      1.000000     1.000000     1.000000   \n",
       "\n",
       "       total_sharks_invested  amount_per_shark  equity_per_shark  \n",
       "count             117.000000        117.000000        117.000000  \n",
       "mean                1.230769         18.132481          5.583590  \n",
       "std                 1.410457         23.588682         10.803799  \n",
       "min                 0.000000          0.000000          0.000000  \n",
       "25%                 0.000000          0.000000          0.000000  \n",
       "50%                 1.000000         10.000000          1.250000  \n",
       "75%                 2.000000         25.000000          6.000000  \n",
       "max                 5.000000        100.000000         75.000000  \n",
       "\n",
       "[8 rows x 26 columns]"
      ]
     },
     "execution_count": 8,
     "metadata": {},
     "output_type": "execute_result"
    }
   ],
   "source": [
    "df.describe()"
   ]
  },
  {
   "cell_type": "code",
   "execution_count": 9,
   "id": "a7c0d948",
   "metadata": {
    "execution": {
     "iopub.execute_input": "2024-06-04T10:16:48.159459Z",
     "iopub.status.busy": "2024-06-04T10:16:48.159094Z",
     "iopub.status.idle": "2024-06-04T10:16:48.169831Z",
     "shell.execute_reply": "2024-06-04T10:16:48.168639Z"
    },
    "papermill": {
     "duration": 0.026105,
     "end_time": "2024-06-04T10:16:48.172123",
     "exception": false,
     "start_time": "2024-06-04T10:16:48.146018",
     "status": "completed"
    },
    "tags": []
   },
   "outputs": [
    {
     "data": {
      "text/plain": [
       "episode_number           0\n",
       "pitch_number             0\n",
       "brand_name               0\n",
       "idea                     0\n",
       "deal                     0\n",
       "pitcher_ask_amount       0\n",
       "ask_equity               0\n",
       "ask_valuation            0\n",
       "deal_amount              0\n",
       "deal_equity              0\n",
       "deal_valuation           0\n",
       "ashneer_present          0\n",
       "anupam_present           0\n",
       "aman_present             0\n",
       "namita_present           0\n",
       "vineeta_present          0\n",
       "peyush_present           0\n",
       "ghazal_present           0\n",
       "ashneer_deal             0\n",
       "anupam_deal              0\n",
       "aman_deal                0\n",
       "namita_deal              0\n",
       "vineeta_deal             0\n",
       "peyush_deal              0\n",
       "ghazal_deal              0\n",
       "total_sharks_invested    0\n",
       "amount_per_shark         0\n",
       "equity_per_shark         0\n",
       "dtype: int64"
      ]
     },
     "execution_count": 9,
     "metadata": {},
     "output_type": "execute_result"
    }
   ],
   "source": [
    "df.isnull().sum()"
   ]
  },
  {
   "cell_type": "code",
   "execution_count": 10,
   "id": "4a935448",
   "metadata": {
    "execution": {
     "iopub.execute_input": "2024-06-04T10:16:48.196559Z",
     "iopub.status.busy": "2024-06-04T10:16:48.196151Z",
     "iopub.status.idle": "2024-06-04T10:16:48.215331Z",
     "shell.execute_reply": "2024-06-04T10:16:48.213987Z"
    },
    "papermill": {
     "duration": 0.034308,
     "end_time": "2024-06-04T10:16:48.217923",
     "exception": false,
     "start_time": "2024-06-04T10:16:48.183615",
     "status": "completed"
    },
    "tags": []
   },
   "outputs": [
    {
     "data": {
      "text/html": [
       "<div>\n",
       "<style scoped>\n",
       "    .dataframe tbody tr th:only-of-type {\n",
       "        vertical-align: middle;\n",
       "    }\n",
       "\n",
       "    .dataframe tbody tr th {\n",
       "        vertical-align: top;\n",
       "    }\n",
       "\n",
       "    .dataframe thead th {\n",
       "        text-align: right;\n",
       "    }\n",
       "</style>\n",
       "<table border=\"1\" class=\"dataframe\">\n",
       "  <thead>\n",
       "    <tr style=\"text-align: right;\">\n",
       "      <th></th>\n",
       "      <th>episode_number</th>\n",
       "      <th>pitch_number</th>\n",
       "      <th>brand_name</th>\n",
       "      <th>idea</th>\n",
       "      <th>deal</th>\n",
       "      <th>pitcher_ask_amount</th>\n",
       "      <th>ask_equity</th>\n",
       "      <th>ask_valuation</th>\n",
       "      <th>deal_amount</th>\n",
       "      <th>deal_equity</th>\n",
       "      <th>...</th>\n",
       "      <th>ashneer_deal</th>\n",
       "      <th>anupam_deal</th>\n",
       "      <th>aman_deal</th>\n",
       "      <th>namita_deal</th>\n",
       "      <th>vineeta_deal</th>\n",
       "      <th>peyush_deal</th>\n",
       "      <th>ghazal_deal</th>\n",
       "      <th>total_sharks_invested</th>\n",
       "      <th>amount_per_shark</th>\n",
       "      <th>equity_per_shark</th>\n",
       "    </tr>\n",
       "  </thead>\n",
       "  <tbody>\n",
       "  </tbody>\n",
       "</table>\n",
       "<p>0 rows × 28 columns</p>\n",
       "</div>"
      ],
      "text/plain": [
       "Empty DataFrame\n",
       "Columns: [episode_number, pitch_number, brand_name, idea, deal, pitcher_ask_amount, ask_equity, ask_valuation, deal_amount, deal_equity, deal_valuation, ashneer_present, anupam_present, aman_present, namita_present, vineeta_present, peyush_present, ghazal_present, ashneer_deal, anupam_deal, aman_deal, namita_deal, vineeta_deal, peyush_deal, ghazal_deal, total_sharks_invested, amount_per_shark, equity_per_shark]\n",
       "Index: []\n",
       "\n",
       "[0 rows x 28 columns]"
      ]
     },
     "execution_count": 10,
     "metadata": {},
     "output_type": "execute_result"
    }
   ],
   "source": [
    "df[df.duplicated()]"
   ]
  },
  {
   "cell_type": "code",
   "execution_count": 11,
   "id": "277e07ed",
   "metadata": {
    "execution": {
     "iopub.execute_input": "2024-06-04T10:16:48.243258Z",
     "iopub.status.busy": "2024-06-04T10:16:48.242873Z",
     "iopub.status.idle": "2024-06-04T10:16:48.250043Z",
     "shell.execute_reply": "2024-06-04T10:16:48.248850Z"
    },
    "papermill": {
     "duration": 0.022177,
     "end_time": "2024-06-04T10:16:48.252220",
     "exception": false,
     "start_time": "2024-06-04T10:16:48.230043",
     "status": "completed"
    },
    "tags": []
   },
   "outputs": [
    {
     "data": {
      "text/plain": [
       "(117, 28)"
      ]
     },
     "execution_count": 11,
     "metadata": {},
     "output_type": "execute_result"
    }
   ],
   "source": [
    "df.shape"
   ]
  },
  {
   "cell_type": "markdown",
   "id": "1cb44c93",
   "metadata": {
    "papermill": {
     "duration": 0.011528,
     "end_time": "2024-06-04T10:16:48.276134",
     "exception": false,
     "start_time": "2024-06-04T10:16:48.264606",
     "status": "completed"
    },
    "tags": []
   },
   "source": [
    "# 1. Total Episodes"
   ]
  },
  {
   "cell_type": "code",
   "execution_count": 12,
   "id": "2c4d66df",
   "metadata": {
    "execution": {
     "iopub.execute_input": "2024-06-04T10:16:48.303206Z",
     "iopub.status.busy": "2024-06-04T10:16:48.302317Z",
     "iopub.status.idle": "2024-06-04T10:16:48.311334Z",
     "shell.execute_reply": "2024-06-04T10:16:48.310203Z"
    },
    "papermill": {
     "duration": 0.025078,
     "end_time": "2024-06-04T10:16:48.313888",
     "exception": false,
     "start_time": "2024-06-04T10:16:48.288810",
     "status": "completed"
    },
    "tags": []
   },
   "outputs": [
    {
     "data": {
      "text/plain": [
       "array([ 1,  2,  3,  4,  5,  6,  7,  8,  9, 10, 11, 12, 13, 14, 15, 16, 17,\n",
       "       18, 19, 20, 21, 22, 23, 24, 25, 26, 27, 28, 29, 30, 31, 32, 33, 34,\n",
       "       35])"
      ]
     },
     "execution_count": 12,
     "metadata": {},
     "output_type": "execute_result"
    }
   ],
   "source": [
    "df[\"episode_number\"].unique()"
   ]
  },
  {
   "cell_type": "markdown",
   "id": "a226aba2",
   "metadata": {
    "papermill": {
     "duration": 0.012477,
     "end_time": "2024-06-04T10:16:48.338966",
     "exception": false,
     "start_time": "2024-06-04T10:16:48.326489",
     "status": "completed"
    },
    "tags": []
   },
   "source": [
    "# 2. Brands in each Episode"
   ]
  },
  {
   "cell_type": "code",
   "execution_count": 13,
   "id": "249d4521",
   "metadata": {
    "execution": {
     "iopub.execute_input": "2024-06-04T10:16:48.364701Z",
     "iopub.status.busy": "2024-06-04T10:16:48.364312Z",
     "iopub.status.idle": "2024-06-04T10:16:48.375423Z",
     "shell.execute_reply": "2024-06-04T10:16:48.373276Z"
    },
    "papermill": {
     "duration": 0.026917,
     "end_time": "2024-06-04T10:16:48.377814",
     "exception": false,
     "start_time": "2024-06-04T10:16:48.350897",
     "status": "completed"
    },
    "tags": []
   },
   "outputs": [
    {
     "data": {
      "text/plain": [
       "episode_number\n",
       "1     3\n",
       "2     3\n",
       "3     3\n",
       "4     3\n",
       "5     3\n",
       "6     3\n",
       "7     3\n",
       "8     3\n",
       "9     3\n",
       "10    3\n",
       "11    3\n",
       "12    3\n",
       "13    3\n",
       "14    3\n",
       "15    3\n",
       "16    4\n",
       "17    4\n",
       "18    4\n",
       "19    4\n",
       "20    3\n",
       "21    3\n",
       "22    4\n",
       "23    4\n",
       "24    3\n",
       "25    3\n",
       "26    3\n",
       "27    4\n",
       "28    3\n",
       "29    3\n",
       "30    4\n",
       "31    4\n",
       "32    4\n",
       "33    4\n",
       "34    4\n",
       "35    3\n",
       "Name: brand_name, dtype: int64"
      ]
     },
     "execution_count": 13,
     "metadata": {},
     "output_type": "execute_result"
    }
   ],
   "source": [
    "df.groupby([\"episode_number\"])[\"brand_name\"].count()"
   ]
  },
  {
   "cell_type": "markdown",
   "id": "5a0dc8cf",
   "metadata": {
    "papermill": {
     "duration": 0.012257,
     "end_time": "2024-06-04T10:16:48.402533",
     "exception": false,
     "start_time": "2024-06-04T10:16:48.390276",
     "status": "completed"
    },
    "tags": []
   },
   "source": [
    "# 3. Brands participate in Season 1 "
   ]
  },
  {
   "cell_type": "code",
   "execution_count": 14,
   "id": "913e28a8",
   "metadata": {
    "execution": {
     "iopub.execute_input": "2024-06-04T10:16:48.430141Z",
     "iopub.status.busy": "2024-06-04T10:16:48.429618Z",
     "iopub.status.idle": "2024-06-04T10:16:48.437541Z",
     "shell.execute_reply": "2024-06-04T10:16:48.436371Z"
    },
    "papermill": {
     "duration": 0.0248,
     "end_time": "2024-06-04T10:16:48.440138",
     "exception": false,
     "start_time": "2024-06-04T10:16:48.415338",
     "status": "completed"
    },
    "tags": []
   },
   "outputs": [
    {
     "data": {
      "text/plain": [
       "117"
      ]
     },
     "execution_count": 14,
     "metadata": {},
     "output_type": "execute_result"
    }
   ],
   "source": [
    "df[\"brand_name\"].nunique()"
   ]
  },
  {
   "cell_type": "markdown",
   "id": "421279ba",
   "metadata": {
    "papermill": {
     "duration": 0.011699,
     "end_time": "2024-06-04T10:16:48.463845",
     "exception": false,
     "start_time": "2024-06-04T10:16:48.452146",
     "status": "completed"
    },
    "tags": []
   },
   "source": [
    "# 4. No. of Deals"
   ]
  },
  {
   "cell_type": "code",
   "execution_count": 15,
   "id": "7e1b1aec",
   "metadata": {
    "execution": {
     "iopub.execute_input": "2024-06-04T10:16:48.491043Z",
     "iopub.status.busy": "2024-06-04T10:16:48.490618Z",
     "iopub.status.idle": "2024-06-04T10:16:48.501615Z",
     "shell.execute_reply": "2024-06-04T10:16:48.500419Z"
    },
    "papermill": {
     "duration": 0.027531,
     "end_time": "2024-06-04T10:16:48.504077",
     "exception": false,
     "start_time": "2024-06-04T10:16:48.476546",
     "status": "completed"
    },
    "tags": []
   },
   "outputs": [
    {
     "data": {
      "text/plain": [
       "65"
      ]
     },
     "execution_count": 15,
     "metadata": {},
     "output_type": "execute_result"
    }
   ],
   "source": [
    "len(df[df[\"deal\"]== 1])"
   ]
  },
  {
   "cell_type": "markdown",
   "id": "bd508c74",
   "metadata": {
    "papermill": {
     "duration": 0.012309,
     "end_time": "2024-06-04T10:16:48.528586",
     "exception": false,
     "start_time": "2024-06-04T10:16:48.516277",
     "status": "completed"
    },
    "tags": []
   },
   "source": [
    "# 5. Deals Amount"
   ]
  },
  {
   "cell_type": "code",
   "execution_count": 16,
   "id": "087ae602",
   "metadata": {
    "execution": {
     "iopub.execute_input": "2024-06-04T10:16:48.554322Z",
     "iopub.status.busy": "2024-06-04T10:16:48.553918Z",
     "iopub.status.idle": "2024-06-04T10:16:48.569038Z",
     "shell.execute_reply": "2024-06-04T10:16:48.567755Z"
    },
    "papermill": {
     "duration": 0.030693,
     "end_time": "2024-06-04T10:16:48.571298",
     "exception": false,
     "start_time": "2024-06-04T10:16:48.540605",
     "status": "completed"
    },
    "tags": []
   },
   "outputs": [
    {
     "data": {
      "text/html": [
       "<div>\n",
       "<style scoped>\n",
       "    .dataframe tbody tr th:only-of-type {\n",
       "        vertical-align: middle;\n",
       "    }\n",
       "\n",
       "    .dataframe tbody tr th {\n",
       "        vertical-align: top;\n",
       "    }\n",
       "\n",
       "    .dataframe thead th {\n",
       "        text-align: right;\n",
       "    }\n",
       "</style>\n",
       "<table border=\"1\" class=\"dataframe\">\n",
       "  <thead>\n",
       "    <tr style=\"text-align: right;\">\n",
       "      <th></th>\n",
       "      <th>brand_name</th>\n",
       "      <th>deal_amount</th>\n",
       "    </tr>\n",
       "  </thead>\n",
       "  <tbody>\n",
       "    <tr>\n",
       "      <th>0</th>\n",
       "      <td>BluePine Industries</td>\n",
       "      <td>75.0</td>\n",
       "    </tr>\n",
       "    <tr>\n",
       "      <th>1</th>\n",
       "      <td>Booz scooters</td>\n",
       "      <td>40.0</td>\n",
       "    </tr>\n",
       "    <tr>\n",
       "      <th>2</th>\n",
       "      <td>Heart up my Sleeves</td>\n",
       "      <td>25.0</td>\n",
       "    </tr>\n",
       "    <tr>\n",
       "      <th>3</th>\n",
       "      <td>Tagz Foods</td>\n",
       "      <td>70.0</td>\n",
       "    </tr>\n",
       "    <tr>\n",
       "      <th>4</th>\n",
       "      <td>Head and Heart</td>\n",
       "      <td>0.0</td>\n",
       "    </tr>\n",
       "    <tr>\n",
       "      <th>...</th>\n",
       "      <td>...</td>\n",
       "      <td>...</td>\n",
       "    </tr>\n",
       "    <tr>\n",
       "      <th>112</th>\n",
       "      <td>Green Protein</td>\n",
       "      <td>0.0</td>\n",
       "    </tr>\n",
       "    <tr>\n",
       "      <th>113</th>\n",
       "      <td>On2Cook</td>\n",
       "      <td>0.0</td>\n",
       "    </tr>\n",
       "    <tr>\n",
       "      <th>114</th>\n",
       "      <td>Jain Shikanji</td>\n",
       "      <td>40.0</td>\n",
       "    </tr>\n",
       "    <tr>\n",
       "      <th>115</th>\n",
       "      <td>Woloo</td>\n",
       "      <td>0.0</td>\n",
       "    </tr>\n",
       "    <tr>\n",
       "      <th>116</th>\n",
       "      <td>Elcare India</td>\n",
       "      <td>0.0</td>\n",
       "    </tr>\n",
       "  </tbody>\n",
       "</table>\n",
       "<p>117 rows × 2 columns</p>\n",
       "</div>"
      ],
      "text/plain": [
       "              brand_name  deal_amount\n",
       "0    BluePine Industries         75.0\n",
       "1          Booz scooters         40.0\n",
       "2    Heart up my Sleeves         25.0\n",
       "3             Tagz Foods         70.0\n",
       "4         Head and Heart          0.0\n",
       "..                   ...          ...\n",
       "112        Green Protein          0.0\n",
       "113              On2Cook          0.0\n",
       "114        Jain Shikanji         40.0\n",
       "115                Woloo          0.0\n",
       "116         Elcare India          0.0\n",
       "\n",
       "[117 rows x 2 columns]"
      ]
     },
     "execution_count": 16,
     "metadata": {},
     "output_type": "execute_result"
    }
   ],
   "source": [
    "df1 = df[df[\"deal\"] == 1]\n",
    "df[[\"brand_name\" , \"deal_amount\"]]"
   ]
  },
  {
   "cell_type": "markdown",
   "id": "ef2cc08a",
   "metadata": {
    "papermill": {
     "duration": 0.01202,
     "end_time": "2024-06-04T10:16:48.654635",
     "exception": false,
     "start_time": "2024-06-04T10:16:48.642615",
     "status": "completed"
    },
    "tags": []
   },
   "source": [
    "#  6. Deals Equity"
   ]
  },
  {
   "cell_type": "code",
   "execution_count": 17,
   "id": "983df1ca",
   "metadata": {
    "execution": {
     "iopub.execute_input": "2024-06-04T10:16:48.682467Z",
     "iopub.status.busy": "2024-06-04T10:16:48.682046Z",
     "iopub.status.idle": "2024-06-04T10:16:48.696314Z",
     "shell.execute_reply": "2024-06-04T10:16:48.695166Z"
    },
    "papermill": {
     "duration": 0.03165,
     "end_time": "2024-06-04T10:16:48.698799",
     "exception": false,
     "start_time": "2024-06-04T10:16:48.667149",
     "status": "completed"
    },
    "tags": []
   },
   "outputs": [
    {
     "data": {
      "text/html": [
       "<div>\n",
       "<style scoped>\n",
       "    .dataframe tbody tr th:only-of-type {\n",
       "        vertical-align: middle;\n",
       "    }\n",
       "\n",
       "    .dataframe tbody tr th {\n",
       "        vertical-align: top;\n",
       "    }\n",
       "\n",
       "    .dataframe thead th {\n",
       "        text-align: right;\n",
       "    }\n",
       "</style>\n",
       "<table border=\"1\" class=\"dataframe\">\n",
       "  <thead>\n",
       "    <tr style=\"text-align: right;\">\n",
       "      <th></th>\n",
       "      <th>brand_name</th>\n",
       "      <th>deal_equity</th>\n",
       "    </tr>\n",
       "  </thead>\n",
       "  <tbody>\n",
       "    <tr>\n",
       "      <th>0</th>\n",
       "      <td>BluePine Industries</td>\n",
       "      <td>16.00</td>\n",
       "    </tr>\n",
       "    <tr>\n",
       "      <th>1</th>\n",
       "      <td>Booz scooters</td>\n",
       "      <td>50.00</td>\n",
       "    </tr>\n",
       "    <tr>\n",
       "      <th>2</th>\n",
       "      <td>Heart up my Sleeves</td>\n",
       "      <td>30.00</td>\n",
       "    </tr>\n",
       "    <tr>\n",
       "      <th>3</th>\n",
       "      <td>Tagz Foods</td>\n",
       "      <td>2.75</td>\n",
       "    </tr>\n",
       "    <tr>\n",
       "      <th>4</th>\n",
       "      <td>Head and Heart</td>\n",
       "      <td>0.00</td>\n",
       "    </tr>\n",
       "    <tr>\n",
       "      <th>...</th>\n",
       "      <td>...</td>\n",
       "      <td>...</td>\n",
       "    </tr>\n",
       "    <tr>\n",
       "      <th>112</th>\n",
       "      <td>Green Protein</td>\n",
       "      <td>0.00</td>\n",
       "    </tr>\n",
       "    <tr>\n",
       "      <th>113</th>\n",
       "      <td>On2Cook</td>\n",
       "      <td>0.00</td>\n",
       "    </tr>\n",
       "    <tr>\n",
       "      <th>114</th>\n",
       "      <td>Jain Shikanji</td>\n",
       "      <td>30.00</td>\n",
       "    </tr>\n",
       "    <tr>\n",
       "      <th>115</th>\n",
       "      <td>Woloo</td>\n",
       "      <td>0.00</td>\n",
       "    </tr>\n",
       "    <tr>\n",
       "      <th>116</th>\n",
       "      <td>Elcare India</td>\n",
       "      <td>0.00</td>\n",
       "    </tr>\n",
       "  </tbody>\n",
       "</table>\n",
       "<p>117 rows × 2 columns</p>\n",
       "</div>"
      ],
      "text/plain": [
       "              brand_name  deal_equity\n",
       "0    BluePine Industries        16.00\n",
       "1          Booz scooters        50.00\n",
       "2    Heart up my Sleeves        30.00\n",
       "3             Tagz Foods         2.75\n",
       "4         Head and Heart         0.00\n",
       "..                   ...          ...\n",
       "112        Green Protein         0.00\n",
       "113              On2Cook         0.00\n",
       "114        Jain Shikanji        30.00\n",
       "115                Woloo         0.00\n",
       "116         Elcare India         0.00\n",
       "\n",
       "[117 rows x 2 columns]"
      ]
     },
     "execution_count": 17,
     "metadata": {},
     "output_type": "execute_result"
    }
   ],
   "source": [
    "df1 = df[df[\"deal\"] == 1]\n",
    "df[[\"brand_name\" , \"deal_equity\"]]"
   ]
  },
  {
   "cell_type": "markdown",
   "id": "3b915f75",
   "metadata": {
    "papermill": {
     "duration": 0.01296,
     "end_time": "2024-06-04T10:16:48.724508",
     "exception": false,
     "start_time": "2024-06-04T10:16:48.711548",
     "status": "completed"
    },
    "tags": []
   },
   "source": [
    "# 7. Pitcher ask Amount"
   ]
  },
  {
   "cell_type": "code",
   "execution_count": 18,
   "id": "6b4cabb4",
   "metadata": {
    "execution": {
     "iopub.execute_input": "2024-06-04T10:16:48.751758Z",
     "iopub.status.busy": "2024-06-04T10:16:48.751259Z",
     "iopub.status.idle": "2024-06-04T10:16:48.766581Z",
     "shell.execute_reply": "2024-06-04T10:16:48.765263Z"
    },
    "papermill": {
     "duration": 0.031919,
     "end_time": "2024-06-04T10:16:48.769088",
     "exception": false,
     "start_time": "2024-06-04T10:16:48.737169",
     "status": "completed"
    },
    "tags": []
   },
   "outputs": [
    {
     "data": {
      "text/html": [
       "<div>\n",
       "<style scoped>\n",
       "    .dataframe tbody tr th:only-of-type {\n",
       "        vertical-align: middle;\n",
       "    }\n",
       "\n",
       "    .dataframe tbody tr th {\n",
       "        vertical-align: top;\n",
       "    }\n",
       "\n",
       "    .dataframe thead th {\n",
       "        text-align: right;\n",
       "    }\n",
       "</style>\n",
       "<table border=\"1\" class=\"dataframe\">\n",
       "  <thead>\n",
       "    <tr style=\"text-align: right;\">\n",
       "      <th></th>\n",
       "      <th>brand_name</th>\n",
       "      <th>pitcher_ask_amount</th>\n",
       "    </tr>\n",
       "  </thead>\n",
       "  <tbody>\n",
       "    <tr>\n",
       "      <th>0</th>\n",
       "      <td>BluePine Industries</td>\n",
       "      <td>50.0</td>\n",
       "    </tr>\n",
       "    <tr>\n",
       "      <th>1</th>\n",
       "      <td>Booz scooters</td>\n",
       "      <td>40.0</td>\n",
       "    </tr>\n",
       "    <tr>\n",
       "      <th>2</th>\n",
       "      <td>Heart up my Sleeves</td>\n",
       "      <td>25.0</td>\n",
       "    </tr>\n",
       "    <tr>\n",
       "      <th>3</th>\n",
       "      <td>Tagz Foods</td>\n",
       "      <td>70.0</td>\n",
       "    </tr>\n",
       "    <tr>\n",
       "      <th>4</th>\n",
       "      <td>Head and Heart</td>\n",
       "      <td>50.0</td>\n",
       "    </tr>\n",
       "    <tr>\n",
       "      <th>...</th>\n",
       "      <td>...</td>\n",
       "      <td>...</td>\n",
       "    </tr>\n",
       "    <tr>\n",
       "      <th>112</th>\n",
       "      <td>Green Protein</td>\n",
       "      <td>60.0</td>\n",
       "    </tr>\n",
       "    <tr>\n",
       "      <th>113</th>\n",
       "      <td>On2Cook</td>\n",
       "      <td>100.0</td>\n",
       "    </tr>\n",
       "    <tr>\n",
       "      <th>114</th>\n",
       "      <td>Jain Shikanji</td>\n",
       "      <td>40.0</td>\n",
       "    </tr>\n",
       "    <tr>\n",
       "      <th>115</th>\n",
       "      <td>Woloo</td>\n",
       "      <td>50.0</td>\n",
       "    </tr>\n",
       "    <tr>\n",
       "      <th>116</th>\n",
       "      <td>Elcare India</td>\n",
       "      <td>100.0</td>\n",
       "    </tr>\n",
       "  </tbody>\n",
       "</table>\n",
       "<p>117 rows × 2 columns</p>\n",
       "</div>"
      ],
      "text/plain": [
       "              brand_name  pitcher_ask_amount\n",
       "0    BluePine Industries                50.0\n",
       "1          Booz scooters                40.0\n",
       "2    Heart up my Sleeves                25.0\n",
       "3             Tagz Foods                70.0\n",
       "4         Head and Heart                50.0\n",
       "..                   ...                 ...\n",
       "112        Green Protein                60.0\n",
       "113              On2Cook               100.0\n",
       "114        Jain Shikanji                40.0\n",
       "115                Woloo                50.0\n",
       "116         Elcare India               100.0\n",
       "\n",
       "[117 rows x 2 columns]"
      ]
     },
     "execution_count": 18,
     "metadata": {},
     "output_type": "execute_result"
    }
   ],
   "source": [
    "df1 = df[df[\"deal\"] == 1]\n",
    "df[[\"brand_name\" , \"pitcher_ask_amount\"]]"
   ]
  },
  {
   "cell_type": "markdown",
   "id": "21eb78aa",
   "metadata": {
    "papermill": {
     "duration": 0.012722,
     "end_time": "2024-06-04T10:16:48.795068",
     "exception": false,
     "start_time": "2024-06-04T10:16:48.782346",
     "status": "completed"
    },
    "tags": []
   },
   "source": [
    "# 8. Pitcher ask Equity"
   ]
  },
  {
   "cell_type": "code",
   "execution_count": 19,
   "id": "18503aae",
   "metadata": {
    "execution": {
     "iopub.execute_input": "2024-06-04T10:16:48.822607Z",
     "iopub.status.busy": "2024-06-04T10:16:48.822188Z",
     "iopub.status.idle": "2024-06-04T10:16:48.836884Z",
     "shell.execute_reply": "2024-06-04T10:16:48.835718Z"
    },
    "papermill": {
     "duration": 0.031354,
     "end_time": "2024-06-04T10:16:48.839406",
     "exception": false,
     "start_time": "2024-06-04T10:16:48.808052",
     "status": "completed"
    },
    "tags": []
   },
   "outputs": [
    {
     "data": {
      "text/html": [
       "<div>\n",
       "<style scoped>\n",
       "    .dataframe tbody tr th:only-of-type {\n",
       "        vertical-align: middle;\n",
       "    }\n",
       "\n",
       "    .dataframe tbody tr th {\n",
       "        vertical-align: top;\n",
       "    }\n",
       "\n",
       "    .dataframe thead th {\n",
       "        text-align: right;\n",
       "    }\n",
       "</style>\n",
       "<table border=\"1\" class=\"dataframe\">\n",
       "  <thead>\n",
       "    <tr style=\"text-align: right;\">\n",
       "      <th></th>\n",
       "      <th>brand_name</th>\n",
       "      <th>ask_equity</th>\n",
       "    </tr>\n",
       "  </thead>\n",
       "  <tbody>\n",
       "    <tr>\n",
       "      <th>0</th>\n",
       "      <td>BluePine Industries</td>\n",
       "      <td>5.0</td>\n",
       "    </tr>\n",
       "    <tr>\n",
       "      <th>1</th>\n",
       "      <td>Booz scooters</td>\n",
       "      <td>15.0</td>\n",
       "    </tr>\n",
       "    <tr>\n",
       "      <th>2</th>\n",
       "      <td>Heart up my Sleeves</td>\n",
       "      <td>10.0</td>\n",
       "    </tr>\n",
       "    <tr>\n",
       "      <th>3</th>\n",
       "      <td>Tagz Foods</td>\n",
       "      <td>1.0</td>\n",
       "    </tr>\n",
       "    <tr>\n",
       "      <th>4</th>\n",
       "      <td>Head and Heart</td>\n",
       "      <td>5.0</td>\n",
       "    </tr>\n",
       "    <tr>\n",
       "      <th>...</th>\n",
       "      <td>...</td>\n",
       "      <td>...</td>\n",
       "    </tr>\n",
       "    <tr>\n",
       "      <th>112</th>\n",
       "      <td>Green Protein</td>\n",
       "      <td>2.0</td>\n",
       "    </tr>\n",
       "    <tr>\n",
       "      <th>113</th>\n",
       "      <td>On2Cook</td>\n",
       "      <td>1.0</td>\n",
       "    </tr>\n",
       "    <tr>\n",
       "      <th>114</th>\n",
       "      <td>Jain Shikanji</td>\n",
       "      <td>8.0</td>\n",
       "    </tr>\n",
       "    <tr>\n",
       "      <th>115</th>\n",
       "      <td>Woloo</td>\n",
       "      <td>4.0</td>\n",
       "    </tr>\n",
       "    <tr>\n",
       "      <th>116</th>\n",
       "      <td>Elcare India</td>\n",
       "      <td>2.5</td>\n",
       "    </tr>\n",
       "  </tbody>\n",
       "</table>\n",
       "<p>117 rows × 2 columns</p>\n",
       "</div>"
      ],
      "text/plain": [
       "              brand_name  ask_equity\n",
       "0    BluePine Industries         5.0\n",
       "1          Booz scooters        15.0\n",
       "2    Heart up my Sleeves        10.0\n",
       "3             Tagz Foods         1.0\n",
       "4         Head and Heart         5.0\n",
       "..                   ...         ...\n",
       "112        Green Protein         2.0\n",
       "113              On2Cook         1.0\n",
       "114        Jain Shikanji         8.0\n",
       "115                Woloo         4.0\n",
       "116         Elcare India         2.5\n",
       "\n",
       "[117 rows x 2 columns]"
      ]
     },
     "execution_count": 19,
     "metadata": {},
     "output_type": "execute_result"
    }
   ],
   "source": [
    "df1 = df[df[\"deal\"] == 1]\n",
    "df[[\"brand_name\" , \"ask_equity\"]]"
   ]
  },
  {
   "cell_type": "markdown",
   "id": "33f08cd4",
   "metadata": {
    "papermill": {
     "duration": 0.012897,
     "end_time": "2024-06-04T10:16:48.865463",
     "exception": false,
     "start_time": "2024-06-04T10:16:48.852566",
     "status": "completed"
    },
    "tags": []
   },
   "source": [
    "# 9. Pitcher ask Valuation"
   ]
  },
  {
   "cell_type": "code",
   "execution_count": 20,
   "id": "391d1fd6",
   "metadata": {
    "execution": {
     "iopub.execute_input": "2024-06-04T10:16:48.893290Z",
     "iopub.status.busy": "2024-06-04T10:16:48.892917Z",
     "iopub.status.idle": "2024-06-04T10:16:48.906719Z",
     "shell.execute_reply": "2024-06-04T10:16:48.905569Z"
    },
    "papermill": {
     "duration": 0.030539,
     "end_time": "2024-06-04T10:16:48.909137",
     "exception": false,
     "start_time": "2024-06-04T10:16:48.878598",
     "status": "completed"
    },
    "tags": []
   },
   "outputs": [
    {
     "data": {
      "text/html": [
       "<div>\n",
       "<style scoped>\n",
       "    .dataframe tbody tr th:only-of-type {\n",
       "        vertical-align: middle;\n",
       "    }\n",
       "\n",
       "    .dataframe tbody tr th {\n",
       "        vertical-align: top;\n",
       "    }\n",
       "\n",
       "    .dataframe thead th {\n",
       "        text-align: right;\n",
       "    }\n",
       "</style>\n",
       "<table border=\"1\" class=\"dataframe\">\n",
       "  <thead>\n",
       "    <tr style=\"text-align: right;\">\n",
       "      <th></th>\n",
       "      <th>brand_name</th>\n",
       "      <th>ask_valuation</th>\n",
       "    </tr>\n",
       "  </thead>\n",
       "  <tbody>\n",
       "    <tr>\n",
       "      <th>0</th>\n",
       "      <td>BluePine Industries</td>\n",
       "      <td>1000.00</td>\n",
       "    </tr>\n",
       "    <tr>\n",
       "      <th>1</th>\n",
       "      <td>Booz scooters</td>\n",
       "      <td>266.67</td>\n",
       "    </tr>\n",
       "    <tr>\n",
       "      <th>2</th>\n",
       "      <td>Heart up my Sleeves</td>\n",
       "      <td>250.00</td>\n",
       "    </tr>\n",
       "    <tr>\n",
       "      <th>3</th>\n",
       "      <td>Tagz Foods</td>\n",
       "      <td>7000.00</td>\n",
       "    </tr>\n",
       "    <tr>\n",
       "      <th>4</th>\n",
       "      <td>Head and Heart</td>\n",
       "      <td>1000.00</td>\n",
       "    </tr>\n",
       "    <tr>\n",
       "      <th>...</th>\n",
       "      <td>...</td>\n",
       "      <td>...</td>\n",
       "    </tr>\n",
       "    <tr>\n",
       "      <th>112</th>\n",
       "      <td>Green Protein</td>\n",
       "      <td>3000.00</td>\n",
       "    </tr>\n",
       "    <tr>\n",
       "      <th>113</th>\n",
       "      <td>On2Cook</td>\n",
       "      <td>10000.00</td>\n",
       "    </tr>\n",
       "    <tr>\n",
       "      <th>114</th>\n",
       "      <td>Jain Shikanji</td>\n",
       "      <td>500.00</td>\n",
       "    </tr>\n",
       "    <tr>\n",
       "      <th>115</th>\n",
       "      <td>Woloo</td>\n",
       "      <td>1250.00</td>\n",
       "    </tr>\n",
       "    <tr>\n",
       "      <th>116</th>\n",
       "      <td>Elcare India</td>\n",
       "      <td>4000.00</td>\n",
       "    </tr>\n",
       "  </tbody>\n",
       "</table>\n",
       "<p>117 rows × 2 columns</p>\n",
       "</div>"
      ],
      "text/plain": [
       "              brand_name  ask_valuation\n",
       "0    BluePine Industries        1000.00\n",
       "1          Booz scooters         266.67\n",
       "2    Heart up my Sleeves         250.00\n",
       "3             Tagz Foods        7000.00\n",
       "4         Head and Heart        1000.00\n",
       "..                   ...            ...\n",
       "112        Green Protein        3000.00\n",
       "113              On2Cook       10000.00\n",
       "114        Jain Shikanji         500.00\n",
       "115                Woloo        1250.00\n",
       "116         Elcare India        4000.00\n",
       "\n",
       "[117 rows x 2 columns]"
      ]
     },
     "execution_count": 20,
     "metadata": {},
     "output_type": "execute_result"
    }
   ],
   "source": [
    "df1 = df[df[\"deal\"] == 1]\n",
    "df[[\"brand_name\" , \"ask_valuation\"]]"
   ]
  },
  {
   "cell_type": "markdown",
   "id": "6613ed6f",
   "metadata": {
    "papermill": {
     "duration": 0.012867,
     "end_time": "2024-06-04T10:16:48.935327",
     "exception": false,
     "start_time": "2024-06-04T10:16:48.922460",
     "status": "completed"
    },
    "tags": []
   },
   "source": [
    "# 10. How many pitches were made in each episode? Show the average number of pitches per episode."
   ]
  },
  {
   "cell_type": "code",
   "execution_count": 21,
   "id": "2ccc3b9b",
   "metadata": {
    "execution": {
     "iopub.execute_input": "2024-06-04T10:16:48.963317Z",
     "iopub.status.busy": "2024-06-04T10:16:48.962942Z",
     "iopub.status.idle": "2024-06-04T10:16:48.970564Z",
     "shell.execute_reply": "2024-06-04T10:16:48.969315Z"
    },
    "papermill": {
     "duration": 0.024692,
     "end_time": "2024-06-04T10:16:48.973229",
     "exception": false,
     "start_time": "2024-06-04T10:16:48.948537",
     "status": "completed"
    },
    "tags": []
   },
   "outputs": [
    {
     "name": "stdout",
     "output_type": "stream",
     "text": [
      "\n",
      "Average number of pitches per episode: 3.342857142857143\n"
     ]
    }
   ],
   "source": [
    "pitches_per_episode = df.groupby('episode_number')['pitch_number'].nunique()\n",
    "average_pitches_per_episode = pitches_per_episode.mean()\n",
    "print(\"\\nAverage number of pitches per episode:\", average_pitches_per_episode)"
   ]
  },
  {
   "cell_type": "markdown",
   "id": "720b11b2",
   "metadata": {
    "papermill": {
     "duration": 0.013682,
     "end_time": "2024-06-04T10:16:49.001684",
     "exception": false,
     "start_time": "2024-06-04T10:16:48.988002",
     "status": "completed"
    },
    "tags": []
   },
   "source": [
    "# 11. What is the percentage of deals done vs. not done?"
   ]
  },
  {
   "cell_type": "code",
   "execution_count": 22,
   "id": "f850da82",
   "metadata": {
    "execution": {
     "iopub.execute_input": "2024-06-04T10:16:49.030881Z",
     "iopub.status.busy": "2024-06-04T10:16:49.030322Z",
     "iopub.status.idle": "2024-06-04T10:16:49.037065Z",
     "shell.execute_reply": "2024-06-04T10:16:49.035706Z"
    },
    "papermill": {
     "duration": 0.02426,
     "end_time": "2024-06-04T10:16:49.039434",
     "exception": false,
     "start_time": "2024-06-04T10:16:49.015174",
     "status": "completed"
    },
    "tags": []
   },
   "outputs": [
    {
     "name": "stdout",
     "output_type": "stream",
     "text": [
      "\n",
      "Percentage of deals done: 55.55555555555556\n"
     ]
    }
   ],
   "source": [
    "deal_percentage = df['deal'].mean() * 100\n",
    "print(\"\\nPercentage of deals done:\", deal_percentage)"
   ]
  },
  {
   "cell_type": "markdown",
   "id": "ddd19c01",
   "metadata": {
    "papermill": {
     "duration": 0.013512,
     "end_time": "2024-06-04T10:16:49.066413",
     "exception": false,
     "start_time": "2024-06-04T10:16:49.052901",
     "status": "completed"
    },
    "tags": []
   },
   "source": [
    "# 12. Which shark participated the most in deals?"
   ]
  },
  {
   "cell_type": "code",
   "execution_count": 23,
   "id": "fe6c5a03",
   "metadata": {
    "execution": {
     "iopub.execute_input": "2024-06-04T10:16:49.096892Z",
     "iopub.status.busy": "2024-06-04T10:16:49.096459Z",
     "iopub.status.idle": "2024-06-04T10:16:49.105998Z",
     "shell.execute_reply": "2024-06-04T10:16:49.104655Z"
    },
    "papermill": {
     "duration": 0.028215,
     "end_time": "2024-06-04T10:16:49.108720",
     "exception": false,
     "start_time": "2024-06-04T10:16:49.080505",
     "status": "completed"
    },
    "tags": []
   },
   "outputs": [
    {
     "name": "stdout",
     "output_type": "stream",
     "text": [
      "\n",
      "Most active shark in deals: aman\n"
     ]
    }
   ],
   "source": [
    "sharks_columns = [col for col in df.columns if '_deal' in col]\n",
    "sharks_deals = df[sharks_columns].sum().sort_values(ascending=False)\n",
    "most_active_shark = sharks_deals.idxmax().split('_')[0]\n",
    "print(\"\\nMost active shark in deals:\", most_active_shark)\n"
   ]
  },
  {
   "cell_type": "markdown",
   "id": "a12a9eee",
   "metadata": {
    "papermill": {
     "duration": 0.013976,
     "end_time": "2024-06-04T10:16:49.136314",
     "exception": false,
     "start_time": "2024-06-04T10:16:49.122338",
     "status": "completed"
    },
    "tags": []
   },
   "source": [
    "# 13. What is the average deal amount?"
   ]
  },
  {
   "cell_type": "code",
   "execution_count": 24,
   "id": "fdb7f0dc",
   "metadata": {
    "execution": {
     "iopub.execute_input": "2024-06-04T10:16:49.165371Z",
     "iopub.status.busy": "2024-06-04T10:16:49.164967Z",
     "iopub.status.idle": "2024-06-04T10:16:49.171502Z",
     "shell.execute_reply": "2024-06-04T10:16:49.170159Z"
    },
    "papermill": {
     "duration": 0.024196,
     "end_time": "2024-06-04T10:16:49.174124",
     "exception": false,
     "start_time": "2024-06-04T10:16:49.149928",
     "status": "completed"
    },
    "tags": []
   },
   "outputs": [
    {
     "name": "stdout",
     "output_type": "stream",
     "text": [
      "\n",
      "Average deal amount: 31.982915042735044\n"
     ]
    }
   ],
   "source": [
    "average_deal_amount = df['deal_amount'].mean()\n",
    "print(\"\\nAverage deal amount:\", average_deal_amount)"
   ]
  },
  {
   "cell_type": "markdown",
   "id": "588b9615",
   "metadata": {
    "papermill": {
     "duration": 0.013972,
     "end_time": "2024-06-04T10:16:49.201949",
     "exception": false,
     "start_time": "2024-06-04T10:16:49.187977",
     "status": "completed"
    },
    "tags": []
   },
   "source": [
    "# 14. How many times was each shark present during the pitching?"
   ]
  },
  {
   "cell_type": "code",
   "execution_count": 25,
   "id": "32134123",
   "metadata": {
    "execution": {
     "iopub.execute_input": "2024-06-04T10:16:49.231419Z",
     "iopub.status.busy": "2024-06-04T10:16:49.231027Z",
     "iopub.status.idle": "2024-06-04T10:16:49.239799Z",
     "shell.execute_reply": "2024-06-04T10:16:49.238390Z"
    },
    "papermill": {
     "duration": 0.026891,
     "end_time": "2024-06-04T10:16:49.242991",
     "exception": false,
     "start_time": "2024-06-04T10:16:49.216100",
     "status": "completed"
    },
    "tags": []
   },
   "outputs": [
    {
     "name": "stdout",
     "output_type": "stream",
     "text": [
      "\n",
      "Number of times each shark was present during the pitching:\n",
      "ashneer_present     98\n",
      "anupam_present     117\n",
      "aman_present        98\n",
      "namita_present     106\n",
      "vineeta_present     66\n",
      "peyush_present      88\n",
      "ghazal_present      26\n",
      "dtype: int64\n"
     ]
    }
   ],
   "source": [
    "sharks_present_columns = [col for col in df.columns if '_present' in col]\n",
    "sharks_present = df[sharks_present_columns].sum()\n",
    "print(\"\\nNumber of times each shark was present during the pitching:\")\n",
    "print(sharks_present)\n"
   ]
  },
  {
   "cell_type": "markdown",
   "id": "683ac1ef",
   "metadata": {
    "papermill": {
     "duration": 0.013818,
     "end_time": "2024-06-04T10:16:49.270978",
     "exception": false,
     "start_time": "2024-06-04T10:16:49.257160",
     "status": "completed"
    },
    "tags": []
   },
   "source": [
    "# 15. What is the total amount invested per shark?"
   ]
  },
  {
   "cell_type": "code",
   "execution_count": 26,
   "id": "00d43aa4",
   "metadata": {
    "execution": {
     "iopub.execute_input": "2024-06-04T10:16:49.301220Z",
     "iopub.status.busy": "2024-06-04T10:16:49.300841Z",
     "iopub.status.idle": "2024-06-04T10:16:49.310088Z",
     "shell.execute_reply": "2024-06-04T10:16:49.308876Z"
    },
    "papermill": {
     "duration": 0.027243,
     "end_time": "2024-06-04T10:16:49.312519",
     "exception": false,
     "start_time": "2024-06-04T10:16:49.285276",
     "status": "completed"
    },
    "tags": []
   },
   "outputs": [
    {
     "name": "stdout",
     "output_type": "stream",
     "text": [
      "\n",
      "Total amount invested per shark:\n",
      "total_sharks_invested\n",
      "0       0.000000\n",
      "1    1131.000000\n",
      "2     560.500000\n",
      "3     300.000017\n",
      "4      60.000253\n",
      "5      70.000000\n",
      "Name: amount_per_shark, dtype: float64\n"
     ]
    }
   ],
   "source": [
    "total_invested_per_shark = df.groupby('total_sharks_invested')['amount_per_shark'].sum()\n",
    "print(\"\\nTotal amount invested per shark:\")\n",
    "print(total_invested_per_shark)"
   ]
  },
  {
   "cell_type": "markdown",
   "id": "c8ff53c0",
   "metadata": {
    "papermill": {
     "duration": 0.01342,
     "end_time": "2024-06-04T10:16:49.339649",
     "exception": false,
     "start_time": "2024-06-04T10:16:49.326229",
     "status": "completed"
    },
    "tags": []
   },
   "source": [
    "# 16. How many deals did each shark participate in on average?"
   ]
  },
  {
   "cell_type": "code",
   "execution_count": 27,
   "id": "ba01eb1c",
   "metadata": {
    "execution": {
     "iopub.execute_input": "2024-06-04T10:16:49.369755Z",
     "iopub.status.busy": "2024-06-04T10:16:49.369288Z",
     "iopub.status.idle": "2024-06-04T10:16:49.377395Z",
     "shell.execute_reply": "2024-06-04T10:16:49.376040Z"
    },
    "papermill": {
     "duration": 0.027053,
     "end_time": "2024-06-04T10:16:49.380855",
     "exception": false,
     "start_time": "2024-06-04T10:16:49.353802",
     "status": "completed"
    },
    "tags": []
   },
   "outputs": [
    {
     "name": "stdout",
     "output_type": "stream",
     "text": [
      "\n",
      "Average deals each shark participated in:\n",
      "aman_deal       0.239316\n",
      "peyush_deal     0.230769\n",
      "anupam_deal     0.205128\n",
      "namita_deal     0.188034\n",
      "ashneer_deal    0.179487\n",
      "vineeta_deal    0.128205\n",
      "ghazal_deal     0.059829\n",
      "dtype: float64\n"
     ]
    }
   ],
   "source": [
    "average_deals_per_shark = df[sharks_deals.index].mean()\n",
    "print(\"\\nAverage deals each shark participated in:\")\n",
    "print(average_deals_per_shark)"
   ]
  },
  {
   "cell_type": "markdown",
   "id": "1631f960",
   "metadata": {
    "papermill": {
     "duration": 0.013586,
     "end_time": "2024-06-04T10:16:49.408573",
     "exception": false,
     "start_time": "2024-06-04T10:16:49.394987",
     "status": "completed"
    },
    "tags": []
   },
   "source": [
    "# 17. Is there any correlation between the amount asked and the deal amount?"
   ]
  },
  {
   "cell_type": "code",
   "execution_count": 28,
   "id": "4186333f",
   "metadata": {
    "execution": {
     "iopub.execute_input": "2024-06-04T10:16:49.438284Z",
     "iopub.status.busy": "2024-06-04T10:16:49.437861Z",
     "iopub.status.idle": "2024-06-04T10:16:49.446962Z",
     "shell.execute_reply": "2024-06-04T10:16:49.445713Z"
    },
    "papermill": {
     "duration": 0.027046,
     "end_time": "2024-06-04T10:16:49.449615",
     "exception": false,
     "start_time": "2024-06-04T10:16:49.422569",
     "status": "completed"
    },
    "tags": []
   },
   "outputs": [
    {
     "name": "stdout",
     "output_type": "stream",
     "text": [
      "\n",
      "Correlation between amount asked and deal amount: -0.08071937892900416\n"
     ]
    }
   ],
   "source": [
    "correlation = df['pitcher_ask_amount'].corr(df['deal_amount'])\n",
    "print(\"\\nCorrelation between amount asked and deal amount:\", correlation)"
   ]
  },
  {
   "cell_type": "markdown",
   "id": "e1ec5c25",
   "metadata": {
    "papermill": {
     "duration": 0.014318,
     "end_time": "2024-06-04T10:16:49.477918",
     "exception": false,
     "start_time": "2024-06-04T10:16:49.463600",
     "status": "completed"
    },
    "tags": []
   },
   "source": [
    "# 18. Which episode had the highest deal amount?"
   ]
  },
  {
   "cell_type": "code",
   "execution_count": 29,
   "id": "4c50c968",
   "metadata": {
    "execution": {
     "iopub.execute_input": "2024-06-04T10:16:49.507954Z",
     "iopub.status.busy": "2024-06-04T10:16:49.507488Z",
     "iopub.status.idle": "2024-06-04T10:16:49.514728Z",
     "shell.execute_reply": "2024-06-04T10:16:49.513226Z"
    },
    "papermill": {
     "duration": 0.025446,
     "end_time": "2024-06-04T10:16:49.517479",
     "exception": false,
     "start_time": "2024-06-04T10:16:49.492033",
     "status": "completed"
    },
    "tags": []
   },
   "outputs": [
    {
     "name": "stdout",
     "output_type": "stream",
     "text": [
      "\n",
      "Episode with the highest deal amount: 17\n"
     ]
    }
   ],
   "source": [
    "episode_highest_deal = df.loc[df['deal_amount'].idxmax(), 'episode_number']\n",
    "print(\"\\nEpisode with the highest deal amount:\", episode_highest_deal)"
   ]
  },
  {
   "cell_type": "markdown",
   "id": "dff6da0c",
   "metadata": {
    "papermill": {
     "duration": 0.013717,
     "end_time": "2024-06-04T10:16:49.545226",
     "exception": false,
     "start_time": "2024-06-04T10:16:49.531509",
     "status": "completed"
    },
    "tags": []
   },
   "source": [
    "# 19. The Most Attracted Idea Accpeted By Sharks:- (All Sharks Deal)"
   ]
  },
  {
   "cell_type": "code",
   "execution_count": 30,
   "id": "1d9712f2",
   "metadata": {
    "execution": {
     "iopub.execute_input": "2024-06-04T10:16:49.576465Z",
     "iopub.status.busy": "2024-06-04T10:16:49.575966Z",
     "iopub.status.idle": "2024-06-04T10:16:49.589127Z",
     "shell.execute_reply": "2024-06-04T10:16:49.587890Z"
    },
    "papermill": {
     "duration": 0.031955,
     "end_time": "2024-06-04T10:16:49.591635",
     "exception": false,
     "start_time": "2024-06-04T10:16:49.559680",
     "status": "completed"
    },
    "tags": []
   },
   "outputs": [
    {
     "data": {
      "text/html": [
       "<div>\n",
       "<style scoped>\n",
       "    .dataframe tbody tr th:only-of-type {\n",
       "        vertical-align: middle;\n",
       "    }\n",
       "\n",
       "    .dataframe tbody tr th {\n",
       "        vertical-align: top;\n",
       "    }\n",
       "\n",
       "    .dataframe thead th {\n",
       "        text-align: right;\n",
       "    }\n",
       "</style>\n",
       "<table border=\"1\" class=\"dataframe\">\n",
       "  <thead>\n",
       "    <tr style=\"text-align: right;\">\n",
       "      <th></th>\n",
       "      <th>brand_name</th>\n",
       "      <th>idea</th>\n",
       "      <th>total_sharks_invested</th>\n",
       "    </tr>\n",
       "  </thead>\n",
       "  <tbody>\n",
       "    <tr>\n",
       "      <th>15</th>\n",
       "      <td>Skippi Pops</td>\n",
       "      <td>Ice-Pops</td>\n",
       "      <td>5</td>\n",
       "    </tr>\n",
       "    <tr>\n",
       "      <th>49</th>\n",
       "      <td>Find Your Kicks India</td>\n",
       "      <td>Sneaker Resale</td>\n",
       "      <td>5</td>\n",
       "    </tr>\n",
       "    <tr>\n",
       "      <th>63</th>\n",
       "      <td>IN A CAN</td>\n",
       "      <td>Can Cocktails</td>\n",
       "      <td>5</td>\n",
       "    </tr>\n",
       "    <tr>\n",
       "      <th>79</th>\n",
       "      <td>Sunfox Technologies</td>\n",
       "      <td>Portable ECG Device</td>\n",
       "      <td>5</td>\n",
       "    </tr>\n",
       "  </tbody>\n",
       "</table>\n",
       "</div>"
      ],
      "text/plain": [
       "               brand_name                 idea  total_sharks_invested\n",
       "15            Skippi Pops             Ice-Pops                      5\n",
       "49  Find Your Kicks India       Sneaker Resale                      5\n",
       "63               IN A CAN        Can Cocktails                      5\n",
       "79    Sunfox Technologies  Portable ECG Device                      5"
      ]
     },
     "execution_count": 30,
     "metadata": {},
     "output_type": "execute_result"
    }
   ],
   "source": [
    "Idea=df[df[\"total_sharks_invested\"]==5]\n",
    "Idea[[\"brand_name\",\"idea\",\"total_sharks_invested\"]]"
   ]
  }
 ],
 "metadata": {
  "kaggle": {
   "accelerator": "none",
   "dataSources": [
    {
     "datasetId": 1953436,
     "sourceId": 3223690,
     "sourceType": "datasetVersion"
    }
   ],
   "dockerImageVersionId": 30715,
   "isGpuEnabled": false,
   "isInternetEnabled": false,
   "language": "python",
   "sourceType": "notebook"
  },
  "kernelspec": {
   "display_name": "Python 3",
   "language": "python",
   "name": "python3"
  },
  "language_info": {
   "codemirror_mode": {
    "name": "ipython",
    "version": 3
   },
   "file_extension": ".py",
   "mimetype": "text/x-python",
   "name": "python",
   "nbconvert_exporter": "python",
   "pygments_lexer": "ipython3",
   "version": "3.10.13"
  },
  "papermill": {
   "default_parameters": {},
   "duration": 8.084725,
   "end_time": "2024-06-04T10:16:50.229185",
   "environment_variables": {},
   "exception": null,
   "input_path": "__notebook__.ipynb",
   "output_path": "__notebook__.ipynb",
   "parameters": {},
   "start_time": "2024-06-04T10:16:42.144460",
   "version": "2.5.0"
  }
 },
 "nbformat": 4,
 "nbformat_minor": 5
}
